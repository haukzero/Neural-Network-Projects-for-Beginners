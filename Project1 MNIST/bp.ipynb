{
 "cells": [
  {
   "cell_type": "markdown",
   "metadata": {},
   "source": [
    "# Build BPNN"
   ]
  },
  {
   "cell_type": "code",
   "execution_count": 1,
   "metadata": {},
   "outputs": [],
   "source": [
    "import torch\n",
    "from torch import nn, optim\n",
    "from torch.utils.data import DataLoader\n",
    "from torchvision import datasets, transforms"
   ]
  },
  {
   "cell_type": "code",
   "execution_count": 2,
   "metadata": {},
   "outputs": [],
   "source": [
    "# Get dataset\n",
    "train_data = datasets.MNIST(root='./',\n",
    "                            train=True,\n",
    "                            transform=transforms.ToTensor(),\n",
    "                            download=True)\n",
    "test_data = datasets.MNIST(root='./',\n",
    "                            train=False,\n",
    "                            transform=transforms.ToTensor(),\n",
    "                            download=True)"
   ]
  },
  {
   "cell_type": "code",
   "execution_count": 3,
   "metadata": {},
   "outputs": [],
   "source": [
    "BATCH_SIZE: int = 64\n",
    "EPOCHS: int = 10\n",
    "\n",
    "# Load data\n",
    "train_loader = DataLoader(train_data, batch_size=BATCH_SIZE, shuffle=True)    # shuffle=True => fetch out of order\n",
    "test_loader = DataLoader(test_data, batch_size=BATCH_SIZE, shuffle=False)"
   ]
  },
  {
   "cell_type": "code",
   "execution_count": 4,
   "metadata": {},
   "outputs": [],
   "source": [
    "# Build our BP Net\n",
    "class Net(nn.Module):\n",
    "    def __init__(self):\n",
    "        super(Net, self).__init__()\n",
    "        self.fc1 = nn.Linear(784, 100)\n",
    "        self.fc2 = nn.Linear(100, 10)\n",
    "        self.activate = nn.ReLU()\n",
    "    def forward(self, x: torch.Tensor) -> torch.Tensor:\n",
    "        x = x.view(x.size(0), -1)  # Flatten the images into a vector\n",
    "        x = self.fc1(x)\n",
    "        x = self.activate(x)\n",
    "        x = self.fc2(x)\n",
    "        return x"
   ]
  },
  {
   "cell_type": "code",
   "execution_count": 5,
   "metadata": {},
   "outputs": [],
   "source": [
    "# Set model, criterion, optimizer\n",
    "import torch.optim as optim\n",
    "model = Net()\n",
    "criterion = nn.CrossEntropyLoss()\n",
    "optimizer = optim.SGD(model.parameters(), lr=0.001, momentum=0.9)"
   ]
  },
  {
   "cell_type": "code",
   "execution_count": 6,
   "metadata": {},
   "outputs": [],
   "source": [
    "# Train func\n",
    "def train():\n",
    "    model.train()   # Set model to training mode\n",
    "    for data in train_loader:\n",
    "        inputs, labels = data\n",
    "        outputs: torch.Tensor = model(inputs)\n",
    "        loss: torch.Tensor = criterion(outputs, labels)\n",
    "        optimizer.zero_grad()\n",
    "        loss.backward()\n",
    "        optimizer.step()"
   ]
  },
  {
   "cell_type": "code",
   "execution_count": 7,
   "metadata": {},
   "outputs": [],
   "source": [
    "# Test func\n",
    "def test() -> torch.Tensor:\n",
    "    model.eval()   # Set model to evaluate mode\n",
    "    correct: int = 0\n",
    "    total: int = 0\n",
    "    with torch.no_grad():   # Not need to track the gradient\n",
    "        for data in test_loader:\n",
    "            inputs, labels = data\n",
    "            outputs: torch.Tensor = model(inputs)\n",
    "            _, predicted = torch.max(outputs.data, dim=1)\n",
    "            total += labels.size(0)\n",
    "            correct += (predicted == labels).sum().item()\n",
    "    print(f'Accuracy = {100 * correct // total} %')"
   ]
  },
  {
   "cell_type": "code",
   "execution_count": 8,
   "metadata": {},
   "outputs": [
    {
     "name": "stdout",
     "output_type": "stream",
     "text": [
      "Epoch 1/10\n",
      "Accuracy = 85 %\n",
      "Epoch 2/10\n",
      "Accuracy = 89 %\n",
      "Epoch 3/10\n",
      "Accuracy = 90 %\n",
      "Epoch 4/10\n",
      "Accuracy = 90 %\n",
      "Epoch 5/10\n",
      "Accuracy = 91 %\n",
      "Epoch 6/10\n",
      "Accuracy = 91 %\n",
      "Epoch 7/10\n",
      "Accuracy = 92 %\n",
      "Epoch 8/10\n",
      "Accuracy = 92 %\n",
      "Epoch 9/10\n",
      "Accuracy = 92 %\n",
      "Epoch 10/10\n",
      "Accuracy = 93 %\n"
     ]
    }
   ],
   "source": [
    "# Train and test\n",
    "for epoch in range(EPOCHS):\n",
    "    print('Epoch {}/{}'.format(epoch + 1, EPOCHS))\n",
    "    train()\n",
    "    test()"
   ]
  },
  {
   "cell_type": "markdown",
   "metadata": {},
   "source": [
    "## Optional: Use GPU\n",
    "\n",
    "If our GPUs are available and Pytorch we downloaded supports GPUs, we can put our code to GPU (usually CUDA) to speed up."
   ]
  },
  {
   "cell_type": "code",
   "execution_count": 9,
   "metadata": {},
   "outputs": [],
   "source": [
    "# Set device\n",
    "DEVICE: str = 'cuda' if torch.cuda.is_available() else 'cpu'"
   ]
  },
  {
   "cell_type": "code",
   "execution_count": 10,
   "metadata": {},
   "outputs": [],
   "source": [
    "# Then, we put our model and data to device\n",
    "model.to(DEVICE)\n",
    "\n",
    "def train_with_device():\n",
    "    model.train()   # Set model to training mode\n",
    "    for data in train_loader:\n",
    "        inputs, labels = data\n",
    "        inputs, labels = inputs.to(DEVICE), labels.to(DEVICE)\n",
    "        outputs: torch.Tensor = model(inputs)\n",
    "        loss: torch.Tensor = criterion(outputs, labels).to(DEVICE)\n",
    "        optimizer.zero_grad()\n",
    "        loss.backward()\n",
    "        optimizer.step()\n",
    "\n",
    "def test_with_device():\n",
    "    correct: int = 0\n",
    "    total: int = 0\n",
    "    with torch.no_grad():   # Not need to track the gradient\n",
    "        for data in test_loader:\n",
    "            inputs, labels = data\n",
    "            inputs, labels = inputs.to(DEVICE), labels.to(DEVICE)\n",
    "            outputs: torch.Tensor = model(inputs)\n",
    "            _, predicted = torch.max(outputs.data, dim=1)\n",
    "            total += labels.size(0)\n",
    "            correct += (predicted == labels).sum().item()\n",
    "    print(f'Accuracy = {100 * correct // total} %')"
   ]
  },
  {
   "cell_type": "markdown",
   "metadata": {},
   "source": [
    "## Save and load our model"
   ]
  },
  {
   "cell_type": "code",
   "execution_count": null,
   "metadata": {},
   "outputs": [],
   "source": [
    "# Save\n",
    "torch.save(model.state_dict(), 'MNIST_bp_model.pth')"
   ]
  },
  {
   "cell_type": "code",
   "execution_count": null,
   "metadata": {},
   "outputs": [],
   "source": [
    "# Load\n",
    "PATH: str = 'MNIST_bp_model.pth'\n",
    "model.load_state_dict(torch.load(PATH))"
   ]
  }
 ],
 "metadata": {
  "kernelspec": {
   "display_name": "Python 3",
   "language": "python",
   "name": "python3"
  },
  "language_info": {
   "codemirror_mode": {
    "name": "ipython",
    "version": 3
   },
   "file_extension": ".py",
   "mimetype": "text/x-python",
   "name": "python",
   "nbconvert_exporter": "python",
   "pygments_lexer": "ipython3",
   "version": "3.12.0"
  }
 },
 "nbformat": 4,
 "nbformat_minor": 2
}
