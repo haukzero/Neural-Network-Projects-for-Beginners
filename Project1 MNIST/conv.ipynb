{
 "cells": [
  {
   "cell_type": "markdown",
   "metadata": {},
   "source": [
    "# Build CNN\n",
    "\n",
    "Compared with the traditional BP network, CNN is different only in the construction of the network. Only the network model is given here, and the rest is not detailed"
   ]
  },
  {
   "cell_type": "code",
   "execution_count": 1,
   "metadata": {},
   "outputs": [],
   "source": [
    "import torch\n",
    "from torch import nn"
   ]
  },
  {
   "cell_type": "code",
   "execution_count": 2,
   "metadata": {},
   "outputs": [],
   "source": [
    "class Net(nn.Module):\n",
    "    def __init__(self):\n",
    "        super().__init__()\n",
    "        self.convo_layers = nn.ModuleList([\n",
    "            nn.Sequential(\n",
    "                nn.Conv2d(1, 32, kernel_size=5, stride=1, padding=2),   # 1 -> 32\n",
    "                nn.ReLU(),\n",
    "                nn.MaxPool2d(kernel_size=2, stride=2),\n",
    "            ),\n",
    "            nn.Sequential(\n",
    "                nn.Conv2d(32, 64, kernel_size=5, stride=1, padding=2),  # 32 -> 64\n",
    "                nn.ReLU(),\n",
    "                nn.MaxPool2d(kernel_size=2, stride=2),\n",
    "            ),\n",
    "        ])\n",
    "        self.fully_connected_layers = nn.Sequential(\n",
    "            nn.Sequential(\n",
    "                # two 2x2 pooling layers: 28 / (2 ** 2) = 7\n",
    "                # 28x28 -> 7x7\n",
    "                # nodes: 64x7x7\n",
    "                nn.Linear(64 * 7 * 7, 1024),\n",
    "                nn.ReLU(),\n",
    "            ),\n",
    "            nn.Linear(1024, 10),\n",
    "        )\n",
    "    def forward(self, x) -> torch.Tensor:\n",
    "        # Our inputs is (batch_size, channels, height, width) -> (64, 1, 28, 28)\n",
    "        # Not need to change\n",
    "        for layer in self.convo_layers:\n",
    "            x = layer(x)\n",
    "        x = x.view(x.size(0), -1)\n",
    "        for layer in self.fully_connected_layers:\n",
    "            x = layer(x)\n",
    "        return x"
   ]
  }
 ],
 "metadata": {
  "kernelspec": {
   "display_name": "Python 3",
   "language": "python",
   "name": "python3"
  },
  "language_info": {
   "codemirror_mode": {
    "name": "ipython",
    "version": 3
   },
   "file_extension": ".py",
   "mimetype": "text/x-python",
   "name": "python",
   "nbconvert_exporter": "python",
   "pygments_lexer": "ipython3",
   "version": "3.12.0"
  }
 },
 "nbformat": 4,
 "nbformat_minor": 2
}
