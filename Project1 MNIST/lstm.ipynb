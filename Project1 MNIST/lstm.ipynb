{
 "cells": [
  {
   "cell_type": "markdown",
   "metadata": {},
   "source": [
    "# Use LSTM"
   ]
  },
  {
   "cell_type": "code",
   "execution_count": 1,
   "metadata": {},
   "outputs": [],
   "source": [
    "import torch\n",
    "from torch import nn"
   ]
  },
  {
   "cell_type": "code",
   "execution_count": 2,
   "metadata": {},
   "outputs": [],
   "source": [
    "class Net(nn.Module):\n",
    "    def __init__(self):\n",
    "        super().__init__()\n",
    "        self.lstm = nn.LSTM(input_size=28,\n",
    "                            hidden_size=64,\n",
    "                            num_layers=1,\n",
    "        # (seq_len, batch, input_size) -> (batch, seq_len, input_size)\n",
    "                            batch_first=True)\n",
    "        self.out = nn.Linear(64, 10)\n",
    "    def forward(self, x) -> torch.Tensor:\n",
    "        # (64, 1, 28, 28) -> (64, 28, 28)\n",
    "        x = x.squeeze(1)\n",
    "        # outputs: (batch, seq_len, hidden_size)\n",
    "        # h_n: (num_layers, batch, hidden_size)\n",
    "        # c_n: (num_layers, batch, hidden_size)\n",
    "        outputs, (h_n, c_n) = self.lstm(x)\n",
    "        outputs_in_last_timestep = h_n[-1, :, :]\n",
    "        x = self.out(outputs_in_last_timestep)\n",
    "        return x"
   ]
  }
 ],
 "metadata": {
  "kernelspec": {
   "display_name": "Python 3",
   "language": "python",
   "name": "python3"
  },
  "language_info": {
   "codemirror_mode": {
    "name": "ipython",
    "version": 3
   },
   "file_extension": ".py",
   "mimetype": "text/x-python",
   "name": "python",
   "nbconvert_exporter": "python",
   "pygments_lexer": "ipython3",
   "version": "3.12.0"
  }
 },
 "nbformat": 4,
 "nbformat_minor": 2
}
